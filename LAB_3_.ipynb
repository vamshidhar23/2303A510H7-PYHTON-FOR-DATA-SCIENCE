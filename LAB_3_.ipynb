{
  "nbformat": 4,
  "nbformat_minor": 0,
  "metadata": {
    "colab": {
      "provenance": [],
      "include_colab_link": true
    },
    "kernelspec": {
      "name": "python3",
      "display_name": "Python 3"
    },
    "language_info": {
      "name": "python"
    }
  },
  "cells": [
    {
      "cell_type": "markdown",
      "metadata": {
        "id": "view-in-github",
        "colab_type": "text"
      },
      "source": [
        "<a href=\"https://colab.research.google.com/github/vamshidhar23/2303A510H7-PYHTON-FOR-DATA-SCIENCE/blob/main/LAB_3_.ipynb\" target=\"_parent\"><img src=\"https://colab.research.google.com/assets/colab-badge.svg\" alt=\"Open In Colab\"/></a>"
      ]
    },
    {
      "cell_type": "code",
      "execution_count": null,
      "metadata": {
        "id": "3XJDjOn5_yQR"
      },
      "outputs": [],
      "source": []
    },
    {
      "cell_type": "code",
      "metadata": {
        "colab": {
          "base_uri": "https://localhost:8080/"
        },
        "id": "620050f6",
        "outputId": "dc19220d-0a32-42f6-a4de-f4987103d401"
      },
      "source": [
        "import numpy as np\n",
        "\n",
        "A = np.random.randint(1, 11, size=(3, 3))\n",
        "B = np.random.randint(1, 11, size=(3, 3))\n",
        "\n",
        "print(\"Matrix A:\\n\", A)\n",
        "print(\"Matrix B:\\n\", B)\n",
        "\n",
        "add_result = np.add(A, B)\n",
        "sub_result = np.subtract(A, B)\n",
        "\n",
        "print(\"\\nMatrix Addition (A + B):\\n\", add_result)\n",
        "print(\"\\nMatrix Subtraction (A - B):\\n\", sub_result)\n",
        "\n",
        "row, col = 1, 2\n",
        "manual_add = A[row, col] + B[row, col]\n",
        "manual_sub = A[row, col] - B[row, col]\n",
        "\n",
        "print(f\"\\nManual check at position (row={row+1}, col={col+1}):\")\n",
        "print(f\"A[{row},{col}] = {A[row, col]}, B[{row},{col}] = {B[row, col]}\")\n",
        "print(f\"A+B at that position = {manual_add}, np.add result = {add_result[row, col]}\")\n",
        "print(f\"A-B at that position = {manual_sub}, np.subtract result = {sub_result[row, col]}\")\n",
        "\n",
        "print(\"\\nNote: Broadcasting is NOT used here because both matrices have the same shape (3x3).\")\n"
      ],
      "execution_count": null,
      "outputs": [
        {
          "output_type": "stream",
          "name": "stdout",
          "text": [
            "Matrix A:\n",
            " [[ 9  2  6]\n",
            " [10  9 10]\n",
            " [ 5  4  1]]\n",
            "Matrix B:\n",
            " [[4 6 1]\n",
            " [3 4 9]\n",
            " [2 4 4]]\n",
            "\n",
            "Matrix Addition (A + B):\n",
            " [[13  8  7]\n",
            " [13 13 19]\n",
            " [ 7  8  5]]\n",
            "\n",
            "Matrix Subtraction (A - B):\n",
            " [[ 5 -4  5]\n",
            " [ 7  5  1]\n",
            " [ 3  0 -3]]\n",
            "\n",
            "Manual check at position (row=2, col=3):\n",
            "A[1,2] = 10, B[1,2] = 9\n",
            "A+B at that position = 19, np.add result = 19\n",
            "A-B at that position = 1, np.subtract result = 1\n",
            "\n",
            "Note: Broadcasting is NOT used here because both matrices have the same shape (3x3).\n"
          ]
        }
      ]
    },
    {
      "cell_type": "code",
      "metadata": {
        "colab": {
          "base_uri": "https://localhost:8080/",
          "height": 156
        },
        "id": "5379fff8",
        "outputId": "a603b497-2927-4c41-a039-353e549ab533"
      },
      "source": [
        "import numpy as np\n",
        "np.random.seed(0)\n",
        "matrix_a = np.random.randint(0, 10, size=(3, 2))\n",
        "matrix_b = np.random.randint(0, 10, size=(2, 3))\n",
        "matrix_product = np.dot(matrix_a, matrix_b)\n",
        "display(matrix_a)\n",
        "display(matrix_b)\n",
        "display(matrix_product)"
      ],
      "execution_count": null,
      "outputs": [
        {
          "output_type": "display_data",
          "data": {
            "text/plain": [
              "array([[5, 0],\n",
              "       [3, 3],\n",
              "       [7, 9]])"
            ]
          },
          "metadata": {}
        },
        {
          "output_type": "display_data",
          "data": {
            "text/plain": [
              "array([[3, 5, 2],\n",
              "       [4, 7, 6]])"
            ]
          },
          "metadata": {}
        },
        {
          "output_type": "display_data",
          "data": {
            "text/plain": [
              "array([[15, 25, 10],\n",
              "       [21, 36, 24],\n",
              "       [57, 98, 68]])"
            ]
          },
          "metadata": {}
        }
      ]
    }
  ]
}