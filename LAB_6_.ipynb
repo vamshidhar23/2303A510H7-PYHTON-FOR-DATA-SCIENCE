{
  "nbformat": 4,
  "nbformat_minor": 0,
  "metadata": {
    "colab": {
      "provenance": [],
      "include_colab_link": true
    },
    "kernelspec": {
      "name": "python3",
      "display_name": "Python 3"
    },
    "language_info": {
      "name": "python"
    }
  },
  "cells": [
    {
      "cell_type": "markdown",
      "metadata": {
        "id": "view-in-github",
        "colab_type": "text"
      },
      "source": [
        "<a href=\"https://colab.research.google.com/github/vamshidhar23/2303A510H7-PYHTON-FOR-DATA-SCIENCE/blob/main/LAB_6_.ipynb\" target=\"_parent\"><img src=\"https://colab.research.google.com/assets/colab-badge.svg\" alt=\"Open In Colab\"/></a>"
      ]
    },
    {
      "cell_type": "code",
      "execution_count": 1,
      "metadata": {
        "id": "TNT-tZnZAN5k"
      },
      "outputs": [],
      "source": [
        "import pandas as pd\n"
      ]
    },
    {
      "cell_type": "code",
      "source": [
        "sales_data = pd.DataFrame({\n",
        "    \"TransactionID\": [101, 102, 103, 104, 105, 103, 104],  # 103 and 104 are duplicates\n",
        "    \"Customer\": [\"Alice\", \"Bob\", \"Charlie\", \"David\", \"Eva\", \"Charlie\", \"David\"],\n",
        "    \"Product\": [\"Shoes\", \"Bag\", \"Watch\", \"Shoes\", \"Bag\", \"Watch\", \"Shoes\"],\n",
        "    \"Amount\": [200, 350, 150, 200, 350, 150, 200]\n",
        "})"
      ],
      "metadata": {
        "id": "3rot_LQaA1Zw"
      },
      "execution_count": 2,
      "outputs": []
    },
    {
      "cell_type": "code",
      "source": [
        "sales_data.to_csv(\"sales_with_duplicates.csv\", index=False)\n"
      ],
      "metadata": {
        "id": "gfUFtiO8A3NZ"
      },
      "execution_count": 3,
      "outputs": []
    },
    {
      "cell_type": "code",
      "source": [
        "cleaned_data = sales_data.drop_duplicates()\n"
      ],
      "metadata": {
        "id": "45j9EdYJA7Wy"
      },
      "execution_count": 4,
      "outputs": []
    },
    {
      "cell_type": "code",
      "source": [
        "cleaned_data.to_csv(\"cleaned_sales_data.csv\", index=False)\n"
      ],
      "metadata": {
        "id": "Fh1B2KINBB8v"
      },
      "execution_count": 5,
      "outputs": []
    },
    {
      "cell_type": "code",
      "source": [
        "print(\" Files created successfully:\")\n",
        "print(\"- sales_with_duplicates.csv\")\n",
        "print(\"- cleaned_sales_data.csv\")"
      ],
      "metadata": {
        "colab": {
          "base_uri": "https://localhost:8080/"
        },
        "id": "qqwp-u2-BEr1",
        "outputId": "8136a21e-b029-42e4-917b-01d4f0cbdbdb"
      },
      "execution_count": 6,
      "outputs": [
        {
          "output_type": "stream",
          "name": "stdout",
          "text": [
            " Files created successfully:\n",
            "- sales_with_duplicates.csv\n",
            "- cleaned_sales_data.csv\n"
          ]
        }
      ]
    },
    {
      "cell_type": "markdown",
      "source": [
        "# **PArt - 2**"
      ],
      "metadata": {
        "id": "Z1o2O7phBjAe"
      }
    },
    {
      "cell_type": "code",
      "source": [
        "employee_data = pd.DataFrame({\n",
        "    \"EmployeeID\": [1, 2, 3, 4],\n",
        "    \"Name\": [\"Alice\", \"Bob\", \"Charlie\", \"David\"],\n",
        "    \"Salary\": [\"50000\", \"60000\", \"55000\", \"65000\"],  # stored as string\n",
        "    \"Joining_Date\": [\"2022-01-15\", \"2021-12-10\", \"2020-06-25\", \"2019-03-05\"]  # stored as string\n",
        "})"
      ],
      "metadata": {
        "id": "Tgs21B8QBFKi"
      },
      "execution_count": 7,
      "outputs": []
    },
    {
      "cell_type": "code",
      "source": [
        "employee_data.to_csv(\"employee_dataset.csv\", index=False)\n"
      ],
      "metadata": {
        "id": "KmGAiwUQB-Y-"
      },
      "execution_count": 8,
      "outputs": []
    },
    {
      "cell_type": "code",
      "source": [
        "data = pd.read_csv(\"employee_dataset.csv\")\n",
        "print(\"\\nBefore Conversion:\")\n",
        "print(data.dtypes)"
      ],
      "metadata": {
        "colab": {
          "base_uri": "https://localhost:8080/"
        },
        "id": "a6OVZNQKCDvL",
        "outputId": "0c4cc8b8-46aa-4a56-ffd1-c16ac4fa51e1"
      },
      "execution_count": 9,
      "outputs": [
        {
          "output_type": "stream",
          "name": "stdout",
          "text": [
            "\n",
            "Before Conversion:\n",
            "EmployeeID       int64\n",
            "Name            object\n",
            "Salary           int64\n",
            "Joining_Date    object\n",
            "dtype: object\n"
          ]
        }
      ]
    },
    {
      "cell_type": "code",
      "source": [
        "data[\"Salary\"] = pd.to_numeric(data[\"Salary\"])\n",
        "data[\"Joining_Date\"] = pd.to_datetime(data[\"Joining_Date\"])"
      ],
      "metadata": {
        "id": "JXNDVFrqCETc"
      },
      "execution_count": 10,
      "outputs": []
    },
    {
      "cell_type": "code",
      "source": [
        "data.to_csv(\"cleaned_employee_dataset.csv\", index=False)\n",
        "print(data.dtypes)"
      ],
      "metadata": {
        "colab": {
          "base_uri": "https://localhost:8080/"
        },
        "id": "bxPV0PMhCKqe",
        "outputId": "dfdea400-3b11-407c-da01-023a47b5ec69"
      },
      "execution_count": 11,
      "outputs": [
        {
          "output_type": "stream",
          "name": "stdout",
          "text": [
            "EmployeeID               int64\n",
            "Name                    object\n",
            "Salary                   int64\n",
            "Joining_Date    datetime64[ns]\n",
            "dtype: object\n"
          ]
        }
      ]
    },
    {
      "cell_type": "code",
      "source": [],
      "metadata": {
        "id": "u32rLncqCOJG"
      },
      "execution_count": 11,
      "outputs": []
    }
  ]
}