{
  "nbformat": 4,
  "nbformat_minor": 0,
  "metadata": {
    "colab": {
      "provenance": [],
      "authorship_tag": "ABX9TyOmsFtbEYGo4EALui36y4r+",
      "include_colab_link": true
    },
    "kernelspec": {
      "name": "python3",
      "display_name": "Python 3"
    },
    "language_info": {
      "name": "python"
    }
  },
  "cells": [
    {
      "cell_type": "markdown",
      "metadata": {
        "id": "view-in-github",
        "colab_type": "text"
      },
      "source": [
        "<a href=\"https://colab.research.google.com/github/vamshidhar23/2303A510H7-PYHTON-FOR-DATA-SCIENCE/blob/main/LAB_4_.ipynb\" target=\"_parent\"><img src=\"https://colab.research.google.com/assets/colab-badge.svg\" alt=\"Open In Colab\"/></a>"
      ]
    },
    {
      "cell_type": "markdown",
      "source": [
        "1"
      ],
      "metadata": {
        "id": "Nl637Y0c5qM8"
      }
    },
    {
      "cell_type": "code",
      "execution_count": 2,
      "metadata": {
        "colab": {
          "base_uri": "https://localhost:8080/"
        },
        "id": "w_5nhuzn2ngI",
        "outputId": "8570f2e5-4899-4849-a45f-78dcda5a6ddd"
      },
      "outputs": [
        {
          "output_type": "stream",
          "name": "stdout",
          "text": [
            "Cleaned Data (with filled values):\n",
            "   Student_ID     Name  Math    Science    English\n",
            "0           1    Alice  90.0  85.000000  92.000000\n",
            "1           2      Bob  80.0  83.666667  76.000000\n",
            "2           3  Charlie  80.0  78.000000  89.000000\n",
            "3           4    David  70.0  88.000000  85.666667\n",
            "\n",
            "High Achievers (All subjects > 75):\n",
            "   Student_ID     Name  Math    Science  English\n",
            "0           1    Alice  90.0  85.000000     92.0\n",
            "1           2      Bob  80.0  83.666667     76.0\n",
            "2           3  Charlie  80.0  78.000000     89.0\n"
          ]
        }
      ],
      "source": [
        "import pandas as pd\n",
        "\n",
        "df = pd.read_csv(\"student_scores.csv\")\n",
        "df_filled = df.fillna(df.mean(numeric_only=True))\n",
        "\n",
        "high_achievers = df_filled[\n",
        "    (df_filled[\"Math\"] > 75) &\n",
        "    (df_filled[\"Science\"] > 75) &\n",
        "    (df_filled[\"English\"] > 75)\n",
        "]\n",
        "\n",
        "print(\"Cleaned Data (with filled values):\")\n",
        "print(df_filled)\n",
        "\n",
        "print(\"\\nHigh Achievers (All subjects > 75):\")\n",
        "print(high_achievers)\n"
      ]
    },
    {
      "cell_type": "markdown",
      "source": [
        "2"
      ],
      "metadata": {
        "id": "4jxUOcAD50Uh"
      }
    },
    {
      "cell_type": "code",
      "source": [
        "import pandas as pd\n",
        "\n",
        "df = pd.read_csv(\"patients.csv\")\n",
        "\n",
        "df[\"Age\"] = df[\"Age\"].fillna(df[\"Age\"].median())\n",
        "\n",
        "elderly_female_diabetes = df[\n",
        "    (df[\"Gender\"].str.lower() == \"female\") &\n",
        "    (df[\"Age\"] > 50) &\n",
        "    (df[\"Diagnosis\"].str.lower() == \"diabetes\")\n",
        "]\n",
        "\n",
        "print(\"Cleaned Dataset:\")\n",
        "print(df)\n",
        "\n",
        "print(\"\\nElderly Female Patients with Diabetes:\")\n",
        "print(elderly_female_diabetes)\n"
      ],
      "metadata": {
        "colab": {
          "base_uri": "https://localhost:8080/"
        },
        "id": "nalYbufG51lu",
        "outputId": "ec175202-da34-41b7-b62f-be63fdc0344c"
      },
      "execution_count": 3,
      "outputs": [
        {
          "output_type": "stream",
          "name": "stdout",
          "text": [
            "Cleaned Dataset:\n",
            "   Patient_ID         Name   Age  Gender     Diagnosis Admission_Date\n",
            "0         101  Alice Smith  65.0  Female      Diabetes     2025-01-10\n",
            "1         102  Bob Johnson  45.0    Male           Flu     2025-02-15\n",
            "2         103    Clara Lee  60.0  Female      Diabetes     2025-03-20\n",
            "3         104  David Brown  70.0    Male  Hypertension     2025-04-05\n",
            "4         105    Eva Green  55.0  Female      Diabetes     2025-05-12\n",
            "5         106  Fiona White  60.0  Female      Diabetes     2025-06-18\n",
            "\n",
            "Elderly Female Patients with Diabetes:\n",
            "   Patient_ID         Name   Age  Gender Diagnosis Admission_Date\n",
            "0         101  Alice Smith  65.0  Female  Diabetes     2025-01-10\n",
            "2         103    Clara Lee  60.0  Female  Diabetes     2025-03-20\n",
            "4         105    Eva Green  55.0  Female  Diabetes     2025-05-12\n",
            "5         106  Fiona White  60.0  Female  Diabetes     2025-06-18\n"
          ]
        }
      ]
    }
  ]
}