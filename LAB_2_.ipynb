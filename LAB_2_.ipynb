{
  "nbformat": 4,
  "nbformat_minor": 0,
  "metadata": {
    "colab": {
      "provenance": [],
      "authorship_tag": "ABX9TyP57mUpI2JfrRlxssS6A2EV",
      "include_colab_link": true
    },
    "kernelspec": {
      "name": "python3",
      "display_name": "Python 3"
    },
    "language_info": {
      "name": "python"
    }
  },
  "cells": [
    {
      "cell_type": "markdown",
      "metadata": {
        "id": "view-in-github",
        "colab_type": "text"
      },
      "source": [
        "<a href=\"https://colab.research.google.com/github/vamshidhar23/2303A510H7-PYHTON-FOR-DATA-SCIENCE/blob/main/LAB_2_.ipynb\" target=\"_parent\"><img src=\"https://colab.research.google.com/assets/colab-badge.svg\" alt=\"Open In Colab\"/></a>"
      ]
    },
    {
      "cell_type": "code",
      "execution_count": null,
      "metadata": {
        "id": "1h_3fOD2_Ew4"
      },
      "outputs": [],
      "source": []
    },
    {
      "cell_type": "markdown",
      "metadata": {
        "id": "ea7b10ee"
      },
      "source": [
        "# Task\n",
        "Analyze student grades using NumPy arrays, including creating a 2D array, calculating statistics, using slicing and boolean indexing, reshaping the array, and commenting on the results."
      ]
    },
    {
      "cell_type": "markdown",
      "metadata": {
        "id": "a986dfd7"
      },
      "source": [
        "## Create a 2d numpy array\n",
        "\n",
        "### Subtask:\n",
        "Create a 2D NumPy array to store student marks in 3 subjects.\n"
      ]
    },
    {
      "cell_type": "markdown",
      "metadata": {
        "id": "545e2be2"
      },
      "source": [
        "**Reasoning**:\n",
        "Create a 2D NumPy array with sample student grades and print it.\n",
        "\n"
      ]
    },
    {
      "cell_type": "code",
      "metadata": {
        "colab": {
          "base_uri": "https://localhost:8080/"
        },
        "id": "94ab0fef",
        "outputId": "9c1f696d-98cd-4d91-bc3d-481e35a86bbf"
      },
      "source": [
        "import numpy as np\n",
        "\n",
        "student_grades = np.array([[85, 90, 78],\n",
        "                           [92, 88, 95],\n",
        "                           [78, 85, 80],\n",
        "                           [90, 82, 87],\n",
        "                           [88, 95, 91]])\n",
        "\n",
        "print(student_grades)"
      ],
      "execution_count": 1,
      "outputs": [
        {
          "output_type": "stream",
          "name": "stdout",
          "text": [
            "[[85 90 78]\n",
            " [92 88 95]\n",
            " [78 85 80]\n",
            " [90 82 87]\n",
            " [88 95 91]]\n"
          ]
        }
      ]
    },
    {
      "cell_type": "markdown",
      "metadata": {
        "id": "e083e4af"
      },
      "source": [
        "## Calculate basic statistics\n",
        "\n",
        "### Subtask:\n",
        "Calculate and display the average, minimum, and maximum marks for all students and subjects.\n"
      ]
    },
    {
      "cell_type": "markdown",
      "metadata": {
        "id": "b8fc1d60"
      },
      "source": [
        "**Reasoning**:\n",
        "Calculate and print the average, minimum, and maximum marks for all students and subjects using NumPy functions.\n",
        "\n"
      ]
    },
    {
      "cell_type": "code",
      "metadata": {
        "colab": {
          "base_uri": "https://localhost:8080/"
        },
        "id": "50faf267",
        "outputId": "42a8c584-02f1-4436-b2a9-faf0259dfb52"
      },
      "source": [
        "average_mark = np.mean(student_grades)\n",
        "min_mark = np.min(student_grades)\n",
        "max_mark = np.max(student_grades)\n",
        "\n",
        "print(f\"Average mark for all students and subjects: {average_mark:.2f}\")\n",
        "print(f\"Minimum mark for all students and subjects: {min_mark}\")\n",
        "print(f\"Maximum mark for all students and subjects: {max_mark}\")"
      ],
      "execution_count": 2,
      "outputs": [
        {
          "output_type": "stream",
          "name": "stdout",
          "text": [
            "Average mark for all students and subjects: 86.93\n",
            "Minimum mark for all students and subjects: 78\n",
            "Maximum mark for all students and subjects: 95\n"
          ]
        }
      ]
    },
    {
      "cell_type": "markdown",
      "metadata": {
        "id": "d0fe6e8a"
      },
      "source": [
        "## Analyze student performance\n",
        "\n",
        "### Subtask:\n",
        "Use slicing to retrieve and display marks of specific students.\n"
      ]
    },
    {
      "cell_type": "markdown",
      "metadata": {
        "id": "6bff2f9c"
      },
      "source": [
        "**Reasoning**:\n",
        "Use slicing to select and display the marks of specific students as instructed.\n",
        "\n"
      ]
    },
    {
      "cell_type": "code",
      "metadata": {
        "colab": {
          "base_uri": "https://localhost:8080/"
        },
        "id": "251325e9",
        "outputId": "c76e1db0-94e4-4383-fa28-b74a9ac7c3e1"
      },
      "source": [
        "# Select and display the marks of the first student\n",
        "first_student_marks = student_grades[0, :]\n",
        "print(\"Marks of the first student:\")\n",
        "print(first_student_marks)\n",
        "\n",
        "# Select and display the marks of the third and fourth students\n",
        "specific_students_marks = student_grades[2:4, :]\n",
        "print(\"\\nMarks of the third and fourth students:\")\n",
        "print(specific_students_marks)"
      ],
      "execution_count": 3,
      "outputs": [
        {
          "output_type": "stream",
          "name": "stdout",
          "text": [
            "Marks of the first student:\n",
            "[85 90 78]\n",
            "\n",
            "Marks of the third and fourth students:\n",
            "[[78 85 80]\n",
            " [90 82 87]]\n"
          ]
        }
      ]
    },
    {
      "cell_type": "markdown",
      "metadata": {
        "id": "6aa6c7c3"
      },
      "source": [
        "## Identify high-scoring students\n",
        "\n",
        "### Subtask:\n",
        "Use boolean indexing to find and display students who scored above 80 in any subject.\n"
      ]
    },
    {
      "cell_type": "markdown",
      "metadata": {
        "id": "fa714091"
      },
      "source": [
        "**Reasoning**:\n",
        "Create a boolean array and use it to select rows where at least one value is greater than 80.\n",
        "\n"
      ]
    },
    {
      "cell_type": "code",
      "metadata": {
        "colab": {
          "base_uri": "https://localhost:8080/"
        },
        "id": "126bbf16",
        "outputId": "77c7825f-b453-4b77-d07c-837b0bb31155"
      },
      "source": [
        "above_80_boolean = student_grades > 80\n",
        "students_above_80 = student_grades[np.any(above_80_boolean, axis=1)]\n",
        "print(\"Students who scored above 80 in any subject:\")\n",
        "print(students_above_80)"
      ],
      "execution_count": 4,
      "outputs": [
        {
          "output_type": "stream",
          "name": "stdout",
          "text": [
            "Students who scored above 80 in any subject:\n",
            "[[85 90 78]\n",
            " [92 88 95]\n",
            " [78 85 80]\n",
            " [90 82 87]\n",
            " [88 95 91]]\n"
          ]
        }
      ]
    },
    {
      "cell_type": "markdown",
      "metadata": {
        "id": "8e9c5ac1"
      },
      "source": [
        "## Analyze subject-wise performance\n",
        "\n",
        "### Subtask:\n",
        "Reshape the array to analyze performance across subjects.\n"
      ]
    },
    {
      "cell_type": "markdown",
      "metadata": {
        "id": "23cd0efc"
      },
      "source": [
        "**Reasoning**:\n",
        "Reshape the array and calculate the average, minimum, and maximum marks for each subject.\n",
        "\n"
      ]
    },
    {
      "cell_type": "code",
      "metadata": {
        "colab": {
          "base_uri": "https://localhost:8080/"
        },
        "id": "c4a8a4db",
        "outputId": "f9a341c7-174e-454b-bff0-2500e3164f58"
      },
      "source": [
        "subject_grades = student_grades.reshape(3, 5).T\n",
        "\n",
        "average_subject_mark = np.mean(subject_grades, axis=0)\n",
        "min_subject_mark = np.min(subject_grades, axis=0)\n",
        "max_subject_mark = np.max(subject_grades, axis=0)\n",
        "\n",
        "print(\"Average mark for each subject:\", average_subject_mark)\n",
        "print(\"Minimum mark for each subject:\", min_subject_mark)\n",
        "print(\"Maximum mark for each subject:\", max_subject_mark)"
      ],
      "execution_count": 5,
      "outputs": [
        {
          "output_type": "stream",
          "name": "stdout",
          "text": [
            "Average mark for each subject: [86.6 85.6 88.6]\n",
            "Minimum mark for each subject: [78 78 82]\n",
            "Maximum mark for each subject: [92 95 95]\n"
          ]
        }
      ]
    },
    {
      "cell_type": "markdown",
      "metadata": {
        "id": "19d3e133"
      },
      "source": [
        "## Summarize findings\n",
        "\n",
        "### Subtask:\n",
        "Add comments to the code explaining the results of the analysis.\n"
      ]
    },
    {
      "cell_type": "markdown",
      "metadata": {
        "id": "f09ddd17"
      },
      "source": [
        "**Reasoning**:\n",
        "The subtask is to add comments to the previously executed code cells to explain the results. I need to go back through the history of executed cells and add comments where calculations or filtering were performed, explaining the code and interpreting the output.\n",
        "\n"
      ]
    },
    {
      "cell_type": "code",
      "metadata": {
        "colab": {
          "base_uri": "https://localhost:8080/"
        },
        "id": "58fceb00",
        "outputId": "d2f14c0d-7695-4b5c-a6f2-935ae8e995ff"
      },
      "source": [
        "# Create a 2D NumPy array to store student marks in 3 subjects.\n",
        "# Each row represents a student, and each column represents a subject.\n",
        "student_grades = np.array([[85, 90, 78],\n",
        "                           [92, 88, 95],\n",
        "                           [78, 85, 80],\n",
        "                           [90, 82, 87],\n",
        "                           [88, 95, 91]])\n",
        "\n",
        "# Print the created array to verify its structure and content.\n",
        "print(student_grades)\n",
        "\n",
        "# Calculate the average mark for all students and subjects using np.mean().\n",
        "average_mark = np.mean(student_grades)\n",
        "# Calculate the minimum mark across all students and subjects using np.min().\n",
        "min_mark = np.min(student_grades)\n",
        "# Calculate the maximum mark across all students and subjects using np.max().\n",
        "max_mark = np.max(student_grades)\n",
        "\n",
        "# Print the calculated statistics, formatted to two decimal places for the average.\n",
        "# The output shows the overall performance: average=86.93, min=78, max=95.\n",
        "print(f\"Average mark for all students and subjects: {average_mark:.2f}\")\n",
        "print(f\"Minimum mark for all students and subjects: {min_mark}\")\n",
        "print(f\"Maximum mark for all students and subjects: {max_mark}\")\n",
        "\n",
        "# Use slicing to select and display the marks of the first student (index 0).\n",
        "# The slice [0, :] selects the first row and all columns.\n",
        "first_student_marks = student_grades[0, :]\n",
        "print(\"Marks of the first student:\")\n",
        "print(first_student_marks) # Output: [85 90 78] - These are the marks of the first student in the three subjects.\n",
        "\n",
        "# Use slicing to select and display the marks of the third and fourth students (indices 2 and 3).\n",
        "# The slice [2:4, :] selects rows from index 2 up to (but not including) index 4, and all columns.\n",
        "specific_students_marks = student_grades[2:4, :]\n",
        "print(\"\\nMarks of the third and fourth students:\")\n",
        "print(specific_students_marks) # Output: [[78 85 80] [90 82 87]] - These are the marks for the third and fourth students.\n",
        "\n",
        "# Use boolean indexing to create a boolean array indicating where scores are above 80.\n",
        "above_80_boolean = student_grades > 80\n",
        "# Use np.any() with axis=1 to check if any score in a row (for a student) is True (above 80).\n",
        "# This returns a boolean array where True indicates the student has at least one score above 80.\n",
        "students_above_80 = student_grades[np.any(above_80_boolean, axis=1)]\n",
        "# Print the rows (students) where at least one subject score was above 80.\n",
        "# The output shows the students who meet this criterion.\n",
        "print(\"Students who scored above 80 in any subject:\")\n",
        "print(students_above_80)\n",
        "\n",
        "# Reshape the array to analyze performance across subjects.\n",
        "# .reshape(3, 5) changes the array to 3 rows and 5 columns.\n",
        "# .T (transpose) then makes it 5 rows and 3 columns, where each row is a subject and each column is a student's score in that subject.\n",
        "# Note: This reshaping seems incorrect for analyzing performance *across* subjects where each row is a subject.\n",
        "# A correct reshaping for subject analysis would likely have subjects as rows and students as columns.\n",
        "# Let's assume the intent was to have subjects as rows and students as columns after reshaping and transposing.\n",
        "# The original student_grades has students as rows and subjects as columns.\n",
        "# To get subjects as rows and students as columns, we just need to transpose the original array.\n",
        "# Let's correct the reshaping and analysis based on subjects as rows.\n",
        "subject_grades_correct = student_grades.T\n",
        "\n",
        "# Calculate the average mark for each subject using np.mean() with axis=1 (across columns, which are now students).\n",
        "average_subject_mark = np.mean(subject_grades_correct, axis=1)\n",
        "# Calculate the minimum mark for each subject using np.min() with axis=1.\n",
        "min_subject_mark = np.min(subject_grades_correct, axis=1)\n",
        "# Calculate the maximum mark for each subject using np.max() with axis=1.\n",
        "max_subject_mark = np.max(subject_grades_correct, axis=1)\n",
        "\n",
        "# Print the calculated statistics for each subject.\n",
        "# The output shows the average, minimum, and maximum scores for each of the three subjects.\n",
        "print(\"Average mark for each subject:\", average_subject_mark)\n",
        "print(\"Minimum mark for each subject:\", min_subject_mark)\n",
        "print(\"Maximum mark for each subject:\", max_subject_mark)"
      ],
      "execution_count": 6,
      "outputs": [
        {
          "output_type": "stream",
          "name": "stdout",
          "text": [
            "[[85 90 78]\n",
            " [92 88 95]\n",
            " [78 85 80]\n",
            " [90 82 87]\n",
            " [88 95 91]]\n",
            "Average mark for all students and subjects: 86.93\n",
            "Minimum mark for all students and subjects: 78\n",
            "Maximum mark for all students and subjects: 95\n",
            "Marks of the first student:\n",
            "[85 90 78]\n",
            "\n",
            "Marks of the third and fourth students:\n",
            "[[78 85 80]\n",
            " [90 82 87]]\n",
            "Students who scored above 80 in any subject:\n",
            "[[85 90 78]\n",
            " [92 88 95]\n",
            " [78 85 80]\n",
            " [90 82 87]\n",
            " [88 95 91]]\n",
            "Average mark for each subject: [86.6 88.  86.2]\n",
            "Minimum mark for each subject: [78 82 78]\n",
            "Maximum mark for each subject: [92 95 95]\n"
          ]
        }
      ]
    },
    {
      "cell_type": "markdown",
      "metadata": {
        "id": "b59bc4df"
      },
      "source": [
        "## Summary:\n",
        "\n",
        "### Data Analysis Key Findings\n",
        "\n",
        "*   The average mark across all students and subjects is 86.93, with a minimum mark of 78 and a maximum mark of 95.\n",
        "*   The marks for the first student are 85, 90, and 78.\n",
        "*   The marks for the third and fourth students are [[78, 85, 80], [90, 82, 87]].\n",
        "*   All students scored above 80 in at least one subject.\n",
        "*   The average marks for the three subjects are approximately 86.6, 88.0, and 86.2, respectively.\n",
        "*   Subject 2 has the highest average mark (88.0).\n",
        "*   The minimum marks for the three subjects are 78, 82, and 78, respectively.\n",
        "*   The maximum marks for the three subjects are 92, 95, and 95, respectively.\n",
        "\n",
        "### Insights or Next Steps\n",
        "\n",
        "*   Analyze the performance of individual students to identify those who may need additional support or those who are excelling.\n",
        "*   Investigate the subject with the lowest average score (Subject 3) to understand potential reasons for lower performance.\n"
      ]
    }
  ]
}