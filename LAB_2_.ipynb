{
  "nbformat": 4,
  "nbformat_minor": 0,
  "metadata": {
    "colab": {
      "provenance": [],
      "authorship_tag": "ABX9TyOxeNaowNLmQCMtRHiW+8w8",
      "include_colab_link": true
    },
    "kernelspec": {
      "name": "python3",
      "display_name": "Python 3"
    },
    "language_info": {
      "name": "python"
    }
  },
  "cells": [
    {
      "cell_type": "markdown",
      "metadata": {
        "id": "view-in-github",
        "colab_type": "text"
      },
      "source": [
        "<a href=\"https://colab.research.google.com/github/vamshidhar23/2303A510H7-PYHTON-FOR-DATA-SCIENCE/blob/main/LAB_2_.ipynb\" target=\"_parent\"><img src=\"https://colab.research.google.com/assets/colab-badge.svg\" alt=\"Open In Colab\"/></a>"
      ]
    },
    {
      "cell_type": "code",
      "execution_count": null,
      "metadata": {
        "id": "1h_3fOD2_Ew4"
      },
      "outputs": [],
      "source": []
    },
    {
      "cell_type": "markdown",
      "metadata": {
        "id": "ea7b10ee"
      },
      "source": [
        "# Task\n",
        "Analyze student grades using NumPy arrays, including creating a 2D array, calculating statistics, using slicing and boolean indexing, reshaping the array, and commenting on the results."
      ]
    },
    {
      "cell_type": "markdown",
      "metadata": {
        "id": "a986dfd7"
      },
      "source": [
        "## Create a 2d numpy array\n",
        "\n",
        "### Subtask:\n",
        "Create a 2D NumPy array to store student marks in 3 subjects.\n"
      ]
    },
    {
      "cell_type": "markdown",
      "metadata": {
        "id": "545e2be2"
      },
      "source": [
        "**Reasoning**:\n",
        "Create a 2D NumPy array with sample student grades and print it.\n",
        "\n"
      ]
    },
    {
      "cell_type": "code",
      "metadata": {
        "colab": {
          "base_uri": "https://localhost:8080/"
        },
        "id": "94ab0fef",
        "outputId": "9c1f696d-98cd-4d91-bc3d-481e35a86bbf"
      },
      "source": [
        "import numpy as np\n",
        "\n",
        "student_grades = np.array([[85, 90, 78],\n",
        "                           [92, 88, 95],\n",
        "                           [78, 85, 80],\n",
        "                           [90, 82, 87],\n",
        "                           [88, 95, 91]])\n",
        "\n",
        "print(student_grades)"
      ],
      "execution_count": null,
      "outputs": [
        {
          "output_type": "stream",
          "name": "stdout",
          "text": [
            "[[85 90 78]\n",
            " [92 88 95]\n",
            " [78 85 80]\n",
            " [90 82 87]\n",
            " [88 95 91]]\n"
          ]
        }
      ]
    },
    {
      "cell_type": "markdown",
      "metadata": {
        "id": "e083e4af"
      },
      "source": [
        "## Calculate basic statistics\n",
        "\n",
        "### Subtask:\n",
        "Calculate and display the average, minimum, and maximum marks for all students and subjects.\n"
      ]
    },
    {
      "cell_type": "markdown",
      "metadata": {
        "id": "b8fc1d60"
      },
      "source": [
        "**Reasoning**:\n",
        "Calculate and print the average, minimum, and maximum marks for all students and subjects using NumPy functions.\n",
        "\n"
      ]
    },
    {
      "cell_type": "code",
      "metadata": {
        "colab": {
          "base_uri": "https://localhost:8080/"
        },
        "id": "50faf267",
        "outputId": "42a8c584-02f1-4436-b2a9-faf0259dfb52"
      },
      "source": [
        "average_mark = np.mean(student_grades)\n",
        "min_mark = np.min(student_grades)\n",
        "max_mark = np.max(student_grades)\n",
        "\n",
        "print(f\"Average mark for all students and subjects: {average_mark:.2f}\")\n",
        "print(f\"Minimum mark for all students and subjects: {min_mark}\")\n",
        "print(f\"Maximum mark for all students and subjects: {max_mark}\")"
      ],
      "execution_count": null,
      "outputs": [
        {
          "output_type": "stream",
          "name": "stdout",
          "text": [
            "Average mark for all students and subjects: 86.93\n",
            "Minimum mark for all students and subjects: 78\n",
            "Maximum mark for all students and subjects: 95\n"
          ]
        }
      ]
    },
    {
      "cell_type": "markdown",
      "metadata": {
        "id": "d0fe6e8a"
      },
      "source": [
        "## Analyze student performance\n",
        "\n",
        "### Subtask:\n",
        "Use slicing to retrieve and display marks of specific students.\n"
      ]
    },
    {
      "cell_type": "markdown",
      "metadata": {
        "id": "6bff2f9c"
      },
      "source": [
        "**Reasoning**:\n",
        "Use slicing to select and display the marks of specific students as instructed.\n",
        "\n"
      ]
    },
    {
      "cell_type": "code",
      "metadata": {
        "colab": {
          "base_uri": "https://localhost:8080/"
        },
        "id": "251325e9",
        "outputId": "c76e1db0-94e4-4383-fa28-b74a9ac7c3e1"
      },
      "source": [
        "# Select and display the marks of the first student\n",
        "first_student_marks = student_grades[0, :]\n",
        "print(\"Marks of the first student:\")\n",
        "print(first_student_marks)\n",
        "\n",
        "# Select and display the marks of the third and fourth students\n",
        "specific_students_marks = student_grades[2:4, :]\n",
        "print(\"\\nMarks of the third and fourth students:\")\n",
        "print(specific_students_marks)"
      ],
      "execution_count": null,
      "outputs": [
        {
          "output_type": "stream",
          "name": "stdout",
          "text": [
            "Marks of the first student:\n",
            "[85 90 78]\n",
            "\n",
            "Marks of the third and fourth students:\n",
            "[[78 85 80]\n",
            " [90 82 87]]\n"
          ]
        }
      ]
    },
    {
      "cell_type": "markdown",
      "metadata": {
        "id": "6aa6c7c3"
      },
      "source": [
        "## Identify high-scoring students\n",
        "\n",
        "### Subtask:\n",
        "Use boolean indexing to find and display students who scored above 80 in any subject.\n"
      ]
    },
    {
      "cell_type": "markdown",
      "metadata": {
        "id": "fa714091"
      },
      "source": [
        "**Reasoning**:\n",
        "Create a boolean array and use it to select rows where at least one value is greater than 80.\n",
        "\n"
      ]
    },
    {
      "cell_type": "code",
      "metadata": {
        "colab": {
          "base_uri": "https://localhost:8080/"
        },
        "id": "126bbf16",
        "outputId": "77c7825f-b453-4b77-d07c-837b0bb31155"
      },
      "source": [
        "above_80_boolean = student_grades > 80\n",
        "students_above_80 = student_grades[np.any(above_80_boolean, axis=1)]\n",
        "print(\"Students who scored above 80 in any subject:\")\n",
        "print(students_above_80)"
      ],
      "execution_count": null,
      "outputs": [
        {
          "output_type": "stream",
          "name": "stdout",
          "text": [
            "Students who scored above 80 in any subject:\n",
            "[[85 90 78]\n",
            " [92 88 95]\n",
            " [78 85 80]\n",
            " [90 82 87]\n",
            " [88 95 91]]\n"
          ]
        }
      ]
    },
    {
      "cell_type": "markdown",
      "metadata": {
        "id": "8e9c5ac1"
      },
      "source": [
        "## Analyze subject-wise performance\n",
        "\n",
        "### Subtask:\n",
        "Reshape the array to analyze performance across subjects.\n"
      ]
    },
    {
      "cell_type": "markdown",
      "metadata": {
        "id": "23cd0efc"
      },
      "source": [
        "**Reasoning**:\n",
        "Reshape the array and calculate the average, minimum, and maximum marks for each subject.\n",
        "\n"
      ]
    },
    {
      "cell_type": "code",
      "metadata": {
        "colab": {
          "base_uri": "https://localhost:8080/"
        },
        "id": "c4a8a4db",
        "outputId": "f9a341c7-174e-454b-bff0-2500e3164f58"
      },
      "source": [
        "subject_grades = student_grades.reshape(3, 5).T\n",
        "\n",
        "average_subject_mark = np.mean(subject_grades, axis=0)\n",
        "min_subject_mark = np.min(subject_grades, axis=0)\n",
        "max_subject_mark = np.max(subject_grades, axis=0)\n",
        "\n",
        "print(\"Average mark for each subject:\", average_subject_mark)\n",
        "print(\"Minimum mark for each subject:\", min_subject_mark)\n",
        "print(\"Maximum mark for each subject:\", max_subject_mark)"
      ],
      "execution_count": null,
      "outputs": [
        {
          "output_type": "stream",
          "name": "stdout",
          "text": [
            "Average mark for each subject: [86.6 85.6 88.6]\n",
            "Minimum mark for each subject: [78 78 82]\n",
            "Maximum mark for each subject: [92 95 95]\n"
          ]
        }
      ]
    },
    {
      "cell_type": "markdown",
      "metadata": {
        "id": "19d3e133"
      },
      "source": [
        "## Summarize findings\n",
        "\n",
        "### Subtask:\n",
        "Add comments to the code explaining the results of the analysis.\n"
      ]
    },
    {
      "cell_type": "markdown",
      "metadata": {
        "id": "f09ddd17"
      },
      "source": [
        "**Reasoning**:\n",
        "The subtask is to add comments to the previously executed code cells to explain the results. I need to go back through the history of executed cells and add comments where calculations or filtering were performed, explaining the code and interpreting the output.\n",
        "\n"
      ]
    },
    {
      "cell_type": "code",
      "metadata": {
        "colab": {
          "base_uri": "https://localhost:8080/"
        },
        "id": "58fceb00",
        "outputId": "d2f14c0d-7695-4b5c-a6f2-935ae8e995ff"
      },
      "source": [
        "# Create a 2D NumPy array to store student marks in 3 subjects.\n",
        "# Each row represents a student, and each column represents a subject.\n",
        "student_grades = np.array([[85, 90, 78],\n",
        "                           [92, 88, 95],\n",
        "                           [78, 85, 80],\n",
        "                           [90, 82, 87],\n",
        "                           [88, 95, 91]])\n",
        "\n",
        "# Print the created array to verify its structure and content.\n",
        "print(student_grades)\n",
        "\n",
        "# Calculate the average mark for all students and subjects using np.mean().\n",
        "average_mark = np.mean(student_grades)\n",
        "# Calculate the minimum mark across all students and subjects using np.min().\n",
        "min_mark = np.min(student_grades)\n",
        "# Calculate the maximum mark across all students and subjects using np.max().\n",
        "max_mark = np.max(student_grades)\n",
        "\n",
        "# Print the calculated statistics, formatted to two decimal places for the average.\n",
        "# The output shows the overall performance: average=86.93, min=78, max=95.\n",
        "print(f\"Average mark for all students and subjects: {average_mark:.2f}\")\n",
        "print(f\"Minimum mark for all students and subjects: {min_mark}\")\n",
        "print(f\"Maximum mark for all students and subjects: {max_mark}\")\n",
        "\n",
        "# Use slicing to select and display the marks of the first student (index 0).\n",
        "# The slice [0, :] selects the first row and all columns.\n",
        "first_student_marks = student_grades[0, :]\n",
        "print(\"Marks of the first student:\")\n",
        "print(first_student_marks) # Output: [85 90 78] - These are the marks of the first student in the three subjects.\n",
        "\n",
        "# Use slicing to select and display the marks of the third and fourth students (indices 2 and 3).\n",
        "# The slice [2:4, :] selects rows from index 2 up to (but not including) index 4, and all columns.\n",
        "specific_students_marks = student_grades[2:4, :]\n",
        "print(\"\\nMarks of the third and fourth students:\")\n",
        "print(specific_students_marks) # Output: [[78 85 80] [90 82 87]] - These are the marks for the third and fourth students.\n",
        "\n",
        "# Use boolean indexing to create a boolean array indicating where scores are above 80.\n",
        "above_80_boolean = student_grades > 80\n",
        "# Use np.any() with axis=1 to check if any score in a row (for a student) is True (above 80).\n",
        "# This returns a boolean array where True indicates the student has at least one score above 80.\n",
        "students_above_80 = student_grades[np.any(above_80_boolean, axis=1)]\n",
        "# Print the rows (students) where at least one subject score was above 80.\n",
        "# The output shows the students who meet this criterion.\n",
        "print(\"Students who scored above 80 in any subject:\")\n",
        "print(students_above_80)\n",
        "\n",
        "# Reshape the array to analyze performance across subjects.\n",
        "# .reshape(3, 5) changes the array to 3 rows and 5 columns.\n",
        "# .T (transpose) then makes it 5 rows and 3 columns, where each row is a subject and each column is a student's score in that subject.\n",
        "# Note: This reshaping seems incorrect for analyzing performance *across* subjects where each row is a subject.\n",
        "# A correct reshaping for subject analysis would likely have subjects as rows and students as columns.\n",
        "# Let's assume the intent was to have subjects as rows and students as columns after reshaping and transposing.\n",
        "# The original student_grades has students as rows and subjects as columns.\n",
        "# To get subjects as rows and students as columns, we just need to transpose the original array.\n",
        "# Let's correct the reshaping and analysis based on subjects as rows.\n",
        "subject_grades_correct = student_grades.T\n",
        "\n",
        "# Calculate the average mark for each subject using np.mean() with axis=1 (across columns, which are now students).\n",
        "average_subject_mark = np.mean(subject_grades_correct, axis=1)\n",
        "# Calculate the minimum mark for each subject using np.min() with axis=1.\n",
        "min_subject_mark = np.min(subject_grades_correct, axis=1)\n",
        "# Calculate the maximum mark for each subject using np.max() with axis=1.\n",
        "max_subject_mark = np.max(subject_grades_correct, axis=1)\n",
        "\n",
        "# Print the calculated statistics for each subject.\n",
        "# The output shows the average, minimum, and maximum scores for each of the three subjects.\n",
        "print(\"Average mark for each subject:\", average_subject_mark)\n",
        "print(\"Minimum mark for each subject:\", min_subject_mark)\n",
        "print(\"Maximum mark for each subject:\", max_subject_mark)"
      ],
      "execution_count": null,
      "outputs": [
        {
          "output_type": "stream",
          "name": "stdout",
          "text": [
            "[[85 90 78]\n",
            " [92 88 95]\n",
            " [78 85 80]\n",
            " [90 82 87]\n",
            " [88 95 91]]\n",
            "Average mark for all students and subjects: 86.93\n",
            "Minimum mark for all students and subjects: 78\n",
            "Maximum mark for all students and subjects: 95\n",
            "Marks of the first student:\n",
            "[85 90 78]\n",
            "\n",
            "Marks of the third and fourth students:\n",
            "[[78 85 80]\n",
            " [90 82 87]]\n",
            "Students who scored above 80 in any subject:\n",
            "[[85 90 78]\n",
            " [92 88 95]\n",
            " [78 85 80]\n",
            " [90 82 87]\n",
            " [88 95 91]]\n",
            "Average mark for each subject: [86.6 88.  86.2]\n",
            "Minimum mark for each subject: [78 82 78]\n",
            "Maximum mark for each subject: [92 95 95]\n"
          ]
        }
      ]
    },
    {
      "cell_type": "markdown",
      "metadata": {
        "id": "b59bc4df"
      },
      "source": [
        "## Summary:\n",
        "\n",
        "### Data Analysis Key Findings\n",
        "\n",
        "*   The average mark across all students and subjects is 86.93, with a minimum mark of 78 and a maximum mark of 95.\n",
        "*   The marks for the first student are 85, 90, and 78.\n",
        "*   The marks for the third and fourth students are [[78, 85, 80], [90, 82, 87]].\n",
        "*   All students scored above 80 in at least one subject.\n",
        "*   The average marks for the three subjects are approximately 86.6, 88.0, and 86.2, respectively.\n",
        "*   Subject 2 has the highest average mark (88.0).\n",
        "*   The minimum marks for the three subjects are 78, 82, and 78, respectively.\n",
        "*   The maximum marks for the three subjects are 92, 95, and 95, respectively.\n",
        "\n",
        "### Insights or Next Steps\n",
        "\n",
        "*   Analyze the performance of individual students to identify those who may need additional support or those who are excelling.\n",
        "*   Investigate the subject with the lowest average score (Subject 3) to understand potential reasons for lower performance.\n"
      ]
    },
    {
      "cell_type": "markdown",
      "metadata": {
        "id": "d83b5fe8"
      },
      "source": [
        "# Task\n",
        "Analyze employee salary data using pandas DataFrames, including filtering, sorting, adding a bonus column, calculating total expenses, and saving the results to a CSV file."
      ]
    },
    {
      "cell_type": "markdown",
      "metadata": {
        "id": "67f6e052"
      },
      "source": [
        "## Create dataframe\n",
        "\n",
        "### Subtask:\n",
        "Create a pandas DataFrame with employee Name, ID, Department, and Salary data.\n"
      ]
    },
    {
      "cell_type": "markdown",
      "metadata": {
        "id": "a73354bd"
      },
      "source": [
        "**Reasoning**:\n",
        "Create a pandas DataFrame from a dictionary containing employee data and display it.\n",
        "\n"
      ]
    },
    {
      "cell_type": "code",
      "metadata": {
        "id": "25b1d4a2"
      },
      "source": [
        "import pandas as pd\n",
        "\n",
        "# Create a dictionary with employee data\n",
        "employee_data = {\n",
        "    'Name': ['Alice', 'Bob', 'Charlie', 'David', 'Eve'],\n",
        "    'ID': [101, 102, 103, 104, 105],\n",
        "    'Department': ['HR', 'IT', 'Finance', 'Marketing', 'IT'],\n",
        "    'Salary': [60000, 75000, 65000, 70000, 80000]\n",
        "}\n",
        "\n",
        "# Convert the dictionary into a pandas DataFrame\n",
        "employee_df = pd.DataFrame(employee_data)\n",
        "\n",
        "# Display the DataFrame\n",
        "display(employee_df)"
      ],
      "execution_count": null,
      "outputs": []
    },
    {
      "cell_type": "markdown",
      "metadata": {
        "id": "db4d08b4"
      },
      "source": [
        "## Filter by salary\n",
        "\n",
        "### Subtask:\n",
        "Filter the DataFrame to include only employees with a salary greater than 50,000.\n"
      ]
    },
    {
      "cell_type": "markdown",
      "metadata": {
        "id": "08bbd9f0"
      },
      "source": [
        "**Reasoning**:\n",
        "Use boolean indexing to filter the DataFrame to include only employees with a salary greater than 50,000 and display the result.\n",
        "\n"
      ]
    },
    {
      "cell_type": "code",
      "metadata": {
        "id": "6fe1f070"
      },
      "source": [
        "# Create a boolean mask where the 'Salary' column is greater than 50000.\n",
        "salary_filter = employee_df['Salary'] > 50000\n",
        "\n",
        "# Apply this boolean mask to the employee_df DataFrame to select only the rows where the condition is True.\n",
        "filtered_employee_df = employee_df[salary_filter]\n",
        "\n",
        "# Display the filtered DataFrame.\n",
        "display(filtered_employee_df)"
      ],
      "execution_count": null,
      "outputs": []
    },
    {
      "cell_type": "markdown",
      "metadata": {
        "id": "4d7d9e8b"
      },
      "source": [
        "## Sort by salary\n",
        "\n",
        "### Subtask:\n",
        "Sort the DataFrame by salary in descending order.\n"
      ]
    },
    {
      "cell_type": "markdown",
      "metadata": {
        "id": "e7980d4e"
      },
      "source": [
        "**Reasoning**:\n",
        "Sort the filtered DataFrame by the 'Salary' column in descending order and display the result.\n",
        "\n"
      ]
    },
    {
      "cell_type": "code",
      "metadata": {
        "colab": {
          "base_uri": "https://localhost:8080/",
          "height": 211
        },
        "id": "36bfc9fc",
        "outputId": "380783cf-9d53-4774-d110-15e7b6f2dabd"
      },
      "source": [
        "# Sort the filtered_employee_df DataFrame by the 'Salary' column in descending order.\n",
        "sorted_employee_df = filtered_employee_df.sort_values(by='Salary', ascending=False)\n",
        "\n",
        "# Display the sorted_employee_df DataFrame to verify the sorting.\n",
        "display(sorted_employee_df)"
      ],
      "execution_count": 1,
      "outputs": [
        {
          "output_type": "error",
          "ename": "NameError",
          "evalue": "name 'filtered_employee_df' is not defined",
          "traceback": [
            "\u001b[0;31m---------------------------------------------------------------------------\u001b[0m",
            "\u001b[0;31mNameError\u001b[0m                                 Traceback (most recent call last)",
            "\u001b[0;32m/tmp/ipython-input-4285893808.py\u001b[0m in \u001b[0;36m<cell line: 0>\u001b[0;34m()\u001b[0m\n\u001b[1;32m      1\u001b[0m \u001b[0;31m# Sort the filtered_employee_df DataFrame by the 'Salary' column in descending order.\u001b[0m\u001b[0;34m\u001b[0m\u001b[0;34m\u001b[0m\u001b[0m\n\u001b[0;32m----> 2\u001b[0;31m \u001b[0msorted_employee_df\u001b[0m \u001b[0;34m=\u001b[0m \u001b[0mfiltered_employee_df\u001b[0m\u001b[0;34m.\u001b[0m\u001b[0msort_values\u001b[0m\u001b[0;34m(\u001b[0m\u001b[0mby\u001b[0m\u001b[0;34m=\u001b[0m\u001b[0;34m'Salary'\u001b[0m\u001b[0;34m,\u001b[0m \u001b[0mascending\u001b[0m\u001b[0;34m=\u001b[0m\u001b[0;32mFalse\u001b[0m\u001b[0;34m)\u001b[0m\u001b[0;34m\u001b[0m\u001b[0;34m\u001b[0m\u001b[0m\n\u001b[0m\u001b[1;32m      3\u001b[0m \u001b[0;34m\u001b[0m\u001b[0m\n\u001b[1;32m      4\u001b[0m \u001b[0;31m# Display the sorted_employee_df DataFrame to verify the sorting.\u001b[0m\u001b[0;34m\u001b[0m\u001b[0;34m\u001b[0m\u001b[0m\n\u001b[1;32m      5\u001b[0m \u001b[0mdisplay\u001b[0m\u001b[0;34m(\u001b[0m\u001b[0msorted_employee_df\u001b[0m\u001b[0;34m)\u001b[0m\u001b[0;34m\u001b[0m\u001b[0;34m\u001b[0m\u001b[0m\n",
            "\u001b[0;31mNameError\u001b[0m: name 'filtered_employee_df' is not defined"
          ]
        }
      ]
    },
    {
      "cell_type": "markdown",
      "metadata": {
        "id": "1d4c122f"
      },
      "source": [
        "**Reasoning**:\n",
        "The previous command failed because the `filtered_employee_df` DataFrame was not available in the current kernel session. I need to recreate the `employee_df` and then `filtered_employee_df` from the previous steps before sorting.\n",
        "\n"
      ]
    },
    {
      "cell_type": "code",
      "metadata": {
        "colab": {
          "base_uri": "https://localhost:8080/",
          "height": 206
        },
        "id": "0ckOIUaKCDOe",
        "outputId": "cf7e6094-097f-41ba-d6ec-59aeec42f545"
      },
      "source": [
        "import pandas as pd\n",
        "\n",
        "# Recreate the original DataFrame\n",
        "employee_data = {\n",
        "    'Name': ['Alice', 'Bob', 'Charlie', 'David', 'Eve'],\n",
        "    'ID': [101, 102, 103, 104, 105],\n",
        "    'Department': ['HR', 'IT', 'Finance', 'Marketing', 'IT'],\n",
        "    'Salary': [60000, 75000, 65000, 70000, 80000]\n",
        "}\n",
        "employee_df = pd.DataFrame(employee_data)\n",
        "\n",
        "# Recreate the filtered DataFrame\n",
        "filtered_employee_df = employee_df[employee_df['Salary'] > 50000]\n",
        "\n",
        "# Sort the filtered_employee_df DataFrame by the 'Salary' column in descending order.\n",
        "sorted_employee_df = filtered_employee_df.sort_values(by='Salary', ascending=False)\n",
        "\n",
        "# Display the sorted_employee_df DataFrame to verify the sorting.\n",
        "display(sorted_employee_df)"
      ],
      "execution_count": 2,
      "outputs": [
        {
          "output_type": "display_data",
          "data": {
            "text/plain": [
              "      Name   ID Department  Salary\n",
              "4      Eve  105         IT   80000\n",
              "1      Bob  102         IT   75000\n",
              "3    David  104  Marketing   70000\n",
              "2  Charlie  103    Finance   65000\n",
              "0    Alice  101         HR   60000"
            ],
            "text/html": [
              "\n",
              "  <div id=\"df-886baa58-8ce1-45b2-8e82-40b034a060e4\" class=\"colab-df-container\">\n",
              "    <div>\n",
              "<style scoped>\n",
              "    .dataframe tbody tr th:only-of-type {\n",
              "        vertical-align: middle;\n",
              "    }\n",
              "\n",
              "    .dataframe tbody tr th {\n",
              "        vertical-align: top;\n",
              "    }\n",
              "\n",
              "    .dataframe thead th {\n",
              "        text-align: right;\n",
              "    }\n",
              "</style>\n",
              "<table border=\"1\" class=\"dataframe\">\n",
              "  <thead>\n",
              "    <tr style=\"text-align: right;\">\n",
              "      <th></th>\n",
              "      <th>Name</th>\n",
              "      <th>ID</th>\n",
              "      <th>Department</th>\n",
              "      <th>Salary</th>\n",
              "    </tr>\n",
              "  </thead>\n",
              "  <tbody>\n",
              "    <tr>\n",
              "      <th>4</th>\n",
              "      <td>Eve</td>\n",
              "      <td>105</td>\n",
              "      <td>IT</td>\n",
              "      <td>80000</td>\n",
              "    </tr>\n",
              "    <tr>\n",
              "      <th>1</th>\n",
              "      <td>Bob</td>\n",
              "      <td>102</td>\n",
              "      <td>IT</td>\n",
              "      <td>75000</td>\n",
              "    </tr>\n",
              "    <tr>\n",
              "      <th>3</th>\n",
              "      <td>David</td>\n",
              "      <td>104</td>\n",
              "      <td>Marketing</td>\n",
              "      <td>70000</td>\n",
              "    </tr>\n",
              "    <tr>\n",
              "      <th>2</th>\n",
              "      <td>Charlie</td>\n",
              "      <td>103</td>\n",
              "      <td>Finance</td>\n",
              "      <td>65000</td>\n",
              "    </tr>\n",
              "    <tr>\n",
              "      <th>0</th>\n",
              "      <td>Alice</td>\n",
              "      <td>101</td>\n",
              "      <td>HR</td>\n",
              "      <td>60000</td>\n",
              "    </tr>\n",
              "  </tbody>\n",
              "</table>\n",
              "</div>\n",
              "    <div class=\"colab-df-buttons\">\n",
              "\n",
              "  <div class=\"colab-df-container\">\n",
              "    <button class=\"colab-df-convert\" onclick=\"convertToInteractive('df-886baa58-8ce1-45b2-8e82-40b034a060e4')\"\n",
              "            title=\"Convert this dataframe to an interactive table.\"\n",
              "            style=\"display:none;\">\n",
              "\n",
              "  <svg xmlns=\"http://www.w3.org/2000/svg\" height=\"24px\" viewBox=\"0 -960 960 960\">\n",
              "    <path d=\"M120-120v-720h720v720H120Zm60-500h600v-160H180v160Zm220 220h160v-160H400v160Zm0 220h160v-160H400v160ZM180-400h160v-160H180v160Zm440 0h160v-160H620v160ZM180-180h160v-160H180v160Zm440 0h160v-160H620v160Z\"/>\n",
              "  </svg>\n",
              "    </button>\n",
              "\n",
              "  <style>\n",
              "    .colab-df-container {\n",
              "      display:flex;\n",
              "      gap: 12px;\n",
              "    }\n",
              "\n",
              "    .colab-df-convert {\n",
              "      background-color: #E8F0FE;\n",
              "      border: none;\n",
              "      border-radius: 50%;\n",
              "      cursor: pointer;\n",
              "      display: none;\n",
              "      fill: #1967D2;\n",
              "      height: 32px;\n",
              "      padding: 0 0 0 0;\n",
              "      width: 32px;\n",
              "    }\n",
              "\n",
              "    .colab-df-convert:hover {\n",
              "      background-color: #E2EBFA;\n",
              "      box-shadow: 0px 1px 2px rgba(60, 64, 67, 0.3), 0px 1px 3px 1px rgba(60, 64, 67, 0.15);\n",
              "      fill: #174EA6;\n",
              "    }\n",
              "\n",
              "    .colab-df-buttons div {\n",
              "      margin-bottom: 4px;\n",
              "    }\n",
              "\n",
              "    [theme=dark] .colab-df-convert {\n",
              "      background-color: #3B4455;\n",
              "      fill: #D2E3FC;\n",
              "    }\n",
              "\n",
              "    [theme=dark] .colab-df-convert:hover {\n",
              "      background-color: #434B5C;\n",
              "      box-shadow: 0px 1px 3px 1px rgba(0, 0, 0, 0.15);\n",
              "      filter: drop-shadow(0px 1px 2px rgba(0, 0, 0, 0.3));\n",
              "      fill: #FFFFFF;\n",
              "    }\n",
              "  </style>\n",
              "\n",
              "    <script>\n",
              "      const buttonEl =\n",
              "        document.querySelector('#df-886baa58-8ce1-45b2-8e82-40b034a060e4 button.colab-df-convert');\n",
              "      buttonEl.style.display =\n",
              "        google.colab.kernel.accessAllowed ? 'block' : 'none';\n",
              "\n",
              "      async function convertToInteractive(key) {\n",
              "        const element = document.querySelector('#df-886baa58-8ce1-45b2-8e82-40b034a060e4');\n",
              "        const dataTable =\n",
              "          await google.colab.kernel.invokeFunction('convertToInteractive',\n",
              "                                                    [key], {});\n",
              "        if (!dataTable) return;\n",
              "\n",
              "        const docLinkHtml = 'Like what you see? Visit the ' +\n",
              "          '<a target=\"_blank\" href=https://colab.research.google.com/notebooks/data_table.ipynb>data table notebook</a>'\n",
              "          + ' to learn more about interactive tables.';\n",
              "        element.innerHTML = '';\n",
              "        dataTable['output_type'] = 'display_data';\n",
              "        await google.colab.output.renderOutput(dataTable, element);\n",
              "        const docLink = document.createElement('div');\n",
              "        docLink.innerHTML = docLinkHtml;\n",
              "        element.appendChild(docLink);\n",
              "      }\n",
              "    </script>\n",
              "  </div>\n",
              "\n",
              "\n",
              "    <div id=\"df-28f80cdf-06f8-4049-b8b1-f3124861611f\">\n",
              "      <button class=\"colab-df-quickchart\" onclick=\"quickchart('df-28f80cdf-06f8-4049-b8b1-f3124861611f')\"\n",
              "                title=\"Suggest charts\"\n",
              "                style=\"display:none;\">\n",
              "\n",
              "<svg xmlns=\"http://www.w3.org/2000/svg\" height=\"24px\"viewBox=\"0 0 24 24\"\n",
              "     width=\"24px\">\n",
              "    <g>\n",
              "        <path d=\"M19 3H5c-1.1 0-2 .9-2 2v14c0 1.1.9 2 2 2h14c1.1 0 2-.9 2-2V5c0-1.1-.9-2-2-2zM9 17H7v-7h2v7zm4 0h-2V7h2v10zm4 0h-2v-4h2v4z\"/>\n",
              "    </g>\n",
              "</svg>\n",
              "      </button>\n",
              "\n",
              "<style>\n",
              "  .colab-df-quickchart {\n",
              "      --bg-color: #E8F0FE;\n",
              "      --fill-color: #1967D2;\n",
              "      --hover-bg-color: #E2EBFA;\n",
              "      --hover-fill-color: #174EA6;\n",
              "      --disabled-fill-color: #AAA;\n",
              "      --disabled-bg-color: #DDD;\n",
              "  }\n",
              "\n",
              "  [theme=dark] .colab-df-quickchart {\n",
              "      --bg-color: #3B4455;\n",
              "      --fill-color: #D2E3FC;\n",
              "      --hover-bg-color: #434B5C;\n",
              "      --hover-fill-color: #FFFFFF;\n",
              "      --disabled-bg-color: #3B4455;\n",
              "      --disabled-fill-color: #666;\n",
              "  }\n",
              "\n",
              "  .colab-df-quickchart {\n",
              "    background-color: var(--bg-color);\n",
              "    border: none;\n",
              "    border-radius: 50%;\n",
              "    cursor: pointer;\n",
              "    display: none;\n",
              "    fill: var(--fill-color);\n",
              "    height: 32px;\n",
              "    padding: 0;\n",
              "    width: 32px;\n",
              "  }\n",
              "\n",
              "  .colab-df-quickchart:hover {\n",
              "    background-color: var(--hover-bg-color);\n",
              "    box-shadow: 0 1px 2px rgba(60, 64, 67, 0.3), 0 1px 3px 1px rgba(60, 64, 67, 0.15);\n",
              "    fill: var(--button-hover-fill-color);\n",
              "  }\n",
              "\n",
              "  .colab-df-quickchart-complete:disabled,\n",
              "  .colab-df-quickchart-complete:disabled:hover {\n",
              "    background-color: var(--disabled-bg-color);\n",
              "    fill: var(--disabled-fill-color);\n",
              "    box-shadow: none;\n",
              "  }\n",
              "\n",
              "  .colab-df-spinner {\n",
              "    border: 2px solid var(--fill-color);\n",
              "    border-color: transparent;\n",
              "    border-bottom-color: var(--fill-color);\n",
              "    animation:\n",
              "      spin 1s steps(1) infinite;\n",
              "  }\n",
              "\n",
              "  @keyframes spin {\n",
              "    0% {\n",
              "      border-color: transparent;\n",
              "      border-bottom-color: var(--fill-color);\n",
              "      border-left-color: var(--fill-color);\n",
              "    }\n",
              "    20% {\n",
              "      border-color: transparent;\n",
              "      border-left-color: var(--fill-color);\n",
              "      border-top-color: var(--fill-color);\n",
              "    }\n",
              "    30% {\n",
              "      border-color: transparent;\n",
              "      border-left-color: var(--fill-color);\n",
              "      border-top-color: var(--fill-color);\n",
              "      border-right-color: var(--fill-color);\n",
              "    }\n",
              "    40% {\n",
              "      border-color: transparent;\n",
              "      border-right-color: var(--fill-color);\n",
              "      border-top-color: var(--fill-color);\n",
              "    }\n",
              "    60% {\n",
              "      border-color: transparent;\n",
              "      border-right-color: var(--fill-color);\n",
              "    }\n",
              "    80% {\n",
              "      border-color: transparent;\n",
              "      border-right-color: var(--fill-color);\n",
              "      border-bottom-color: var(--fill-color);\n",
              "    }\n",
              "    90% {\n",
              "      border-color: transparent;\n",
              "      border-bottom-color: var(--fill-color);\n",
              "    }\n",
              "  }\n",
              "</style>\n",
              "\n",
              "      <script>\n",
              "        async function quickchart(key) {\n",
              "          const quickchartButtonEl =\n",
              "            document.querySelector('#' + key + ' button');\n",
              "          quickchartButtonEl.disabled = true;  // To prevent multiple clicks.\n",
              "          quickchartButtonEl.classList.add('colab-df-spinner');\n",
              "          try {\n",
              "            const charts = await google.colab.kernel.invokeFunction(\n",
              "                'suggestCharts', [key], {});\n",
              "          } catch (error) {\n",
              "            console.error('Error during call to suggestCharts:', error);\n",
              "          }\n",
              "          quickchartButtonEl.classList.remove('colab-df-spinner');\n",
              "          quickchartButtonEl.classList.add('colab-df-quickchart-complete');\n",
              "        }\n",
              "        (() => {\n",
              "          let quickchartButtonEl =\n",
              "            document.querySelector('#df-28f80cdf-06f8-4049-b8b1-f3124861611f button');\n",
              "          quickchartButtonEl.style.display =\n",
              "            google.colab.kernel.accessAllowed ? 'block' : 'none';\n",
              "        })();\n",
              "      </script>\n",
              "    </div>\n",
              "\n",
              "  <div id=\"id_81ccbc0d-a0a7-4f28-b40d-31b2cad056a4\">\n",
              "    <style>\n",
              "      .colab-df-generate {\n",
              "        background-color: #E8F0FE;\n",
              "        border: none;\n",
              "        border-radius: 50%;\n",
              "        cursor: pointer;\n",
              "        display: none;\n",
              "        fill: #1967D2;\n",
              "        height: 32px;\n",
              "        padding: 0 0 0 0;\n",
              "        width: 32px;\n",
              "      }\n",
              "\n",
              "      .colab-df-generate:hover {\n",
              "        background-color: #E2EBFA;\n",
              "        box-shadow: 0px 1px 2px rgba(60, 64, 67, 0.3), 0px 1px 3px 1px rgba(60, 64, 67, 0.15);\n",
              "        fill: #174EA6;\n",
              "      }\n",
              "\n",
              "      [theme=dark] .colab-df-generate {\n",
              "        background-color: #3B4455;\n",
              "        fill: #D2E3FC;\n",
              "      }\n",
              "\n",
              "      [theme=dark] .colab-df-generate:hover {\n",
              "        background-color: #434B5C;\n",
              "        box-shadow: 0px 1px 3px 1px rgba(0, 0, 0, 0.15);\n",
              "        filter: drop-shadow(0px 1px 2px rgba(0, 0, 0, 0.3));\n",
              "        fill: #FFFFFF;\n",
              "      }\n",
              "    </style>\n",
              "    <button class=\"colab-df-generate\" onclick=\"generateWithVariable('sorted_employee_df')\"\n",
              "            title=\"Generate code using this dataframe.\"\n",
              "            style=\"display:none;\">\n",
              "\n",
              "  <svg xmlns=\"http://www.w3.org/2000/svg\" height=\"24px\"viewBox=\"0 0 24 24\"\n",
              "       width=\"24px\">\n",
              "    <path d=\"M7,19H8.4L18.45,9,17,7.55,7,17.6ZM5,21V16.75L18.45,3.32a2,2,0,0,1,2.83,0l1.4,1.43a1.91,1.91,0,0,1,.58,1.4,1.91,1.91,0,0,1-.58,1.4L9.25,21ZM18.45,9,17,7.55Zm-12,3A5.31,5.31,0,0,0,4.9,8.1,5.31,5.31,0,0,0,1,6.5,5.31,5.31,0,0,0,4.9,4.9,5.31,5.31,0,0,0,6.5,1,5.31,5.31,0,0,0,8.1,4.9,5.31,5.31,0,0,0,12,6.5,5.46,5.46,0,0,0,6.5,12Z\"/>\n",
              "  </svg>\n",
              "    </button>\n",
              "    <script>\n",
              "      (() => {\n",
              "      const buttonEl =\n",
              "        document.querySelector('#id_81ccbc0d-a0a7-4f28-b40d-31b2cad056a4 button.colab-df-generate');\n",
              "      buttonEl.style.display =\n",
              "        google.colab.kernel.accessAllowed ? 'block' : 'none';\n",
              "\n",
              "      buttonEl.onclick = () => {\n",
              "        google.colab.notebook.generateWithVariable('sorted_employee_df');\n",
              "      }\n",
              "      })();\n",
              "    </script>\n",
              "  </div>\n",
              "\n",
              "    </div>\n",
              "  </div>\n"
            ],
            "application/vnd.google.colaboratory.intrinsic+json": {
              "type": "dataframe",
              "variable_name": "sorted_employee_df",
              "summary": "{\n  \"name\": \"sorted_employee_df\",\n  \"rows\": 5,\n  \"fields\": [\n    {\n      \"column\": \"Name\",\n      \"properties\": {\n        \"dtype\": \"string\",\n        \"num_unique_values\": 5,\n        \"samples\": [\n          \"Bob\",\n          \"Alice\",\n          \"David\"\n        ],\n        \"semantic_type\": \"\",\n        \"description\": \"\"\n      }\n    },\n    {\n      \"column\": \"ID\",\n      \"properties\": {\n        \"dtype\": \"number\",\n        \"std\": 1,\n        \"min\": 101,\n        \"max\": 105,\n        \"num_unique_values\": 5,\n        \"samples\": [\n          102,\n          101,\n          104\n        ],\n        \"semantic_type\": \"\",\n        \"description\": \"\"\n      }\n    },\n    {\n      \"column\": \"Department\",\n      \"properties\": {\n        \"dtype\": \"string\",\n        \"num_unique_values\": 4,\n        \"samples\": [\n          \"Marketing\",\n          \"HR\",\n          \"IT\"\n        ],\n        \"semantic_type\": \"\",\n        \"description\": \"\"\n      }\n    },\n    {\n      \"column\": \"Salary\",\n      \"properties\": {\n        \"dtype\": \"number\",\n        \"std\": 7905,\n        \"min\": 60000,\n        \"max\": 80000,\n        \"num_unique_values\": 5,\n        \"samples\": [\n          75000,\n          60000,\n          70000\n        ],\n        \"semantic_type\": \"\",\n        \"description\": \"\"\n      }\n    }\n  ]\n}"
            }
          },
          "metadata": {}
        }
      ]
    },
    {
      "cell_type": "markdown",
      "metadata": {
        "id": "1a3356b0"
      },
      "source": [
        "## Add bonus column\n",
        "\n",
        "### Subtask:\n",
        "Add a new column to the DataFrame for calculating a 10% bonus based on salary.\n"
      ]
    },
    {
      "cell_type": "markdown",
      "metadata": {
        "id": "ace82f15"
      },
      "source": [
        "**Reasoning**:\n",
        "Add a new column 'Bonus' to the DataFrame and calculate its values based on the 'Salary' column, then display the updated DataFrame.\n",
        "\n"
      ]
    },
    {
      "cell_type": "code",
      "metadata": {
        "colab": {
          "base_uri": "https://localhost:8080/",
          "height": 206
        },
        "id": "1349466d",
        "outputId": "6cd23ce1-6f16-4f1c-cf32-39ae9f5b3ea8"
      },
      "source": [
        "# Add a new column 'Bonus' to the sorted_employee_df DataFrame.\n",
        "# Calculate the bonus as 10% of the salary.\n",
        "sorted_employee_df['Bonus'] = sorted_employee_df['Salary'] * 0.10\n",
        "\n",
        "# Display the updated DataFrame to verify the addition of the 'Bonus' column.\n",
        "display(sorted_employee_df)"
      ],
      "execution_count": 3,
      "outputs": [
        {
          "output_type": "display_data",
          "data": {
            "text/plain": [
              "      Name   ID Department  Salary   Bonus\n",
              "4      Eve  105         IT   80000  8000.0\n",
              "1      Bob  102         IT   75000  7500.0\n",
              "3    David  104  Marketing   70000  7000.0\n",
              "2  Charlie  103    Finance   65000  6500.0\n",
              "0    Alice  101         HR   60000  6000.0"
            ],
            "text/html": [
              "\n",
              "  <div id=\"df-5d34209f-8fce-4d59-a108-954143f58eeb\" class=\"colab-df-container\">\n",
              "    <div>\n",
              "<style scoped>\n",
              "    .dataframe tbody tr th:only-of-type {\n",
              "        vertical-align: middle;\n",
              "    }\n",
              "\n",
              "    .dataframe tbody tr th {\n",
              "        vertical-align: top;\n",
              "    }\n",
              "\n",
              "    .dataframe thead th {\n",
              "        text-align: right;\n",
              "    }\n",
              "</style>\n",
              "<table border=\"1\" class=\"dataframe\">\n",
              "  <thead>\n",
              "    <tr style=\"text-align: right;\">\n",
              "      <th></th>\n",
              "      <th>Name</th>\n",
              "      <th>ID</th>\n",
              "      <th>Department</th>\n",
              "      <th>Salary</th>\n",
              "      <th>Bonus</th>\n",
              "    </tr>\n",
              "  </thead>\n",
              "  <tbody>\n",
              "    <tr>\n",
              "      <th>4</th>\n",
              "      <td>Eve</td>\n",
              "      <td>105</td>\n",
              "      <td>IT</td>\n",
              "      <td>80000</td>\n",
              "      <td>8000.0</td>\n",
              "    </tr>\n",
              "    <tr>\n",
              "      <th>1</th>\n",
              "      <td>Bob</td>\n",
              "      <td>102</td>\n",
              "      <td>IT</td>\n",
              "      <td>75000</td>\n",
              "      <td>7500.0</td>\n",
              "    </tr>\n",
              "    <tr>\n",
              "      <th>3</th>\n",
              "      <td>David</td>\n",
              "      <td>104</td>\n",
              "      <td>Marketing</td>\n",
              "      <td>70000</td>\n",
              "      <td>7000.0</td>\n",
              "    </tr>\n",
              "    <tr>\n",
              "      <th>2</th>\n",
              "      <td>Charlie</td>\n",
              "      <td>103</td>\n",
              "      <td>Finance</td>\n",
              "      <td>65000</td>\n",
              "      <td>6500.0</td>\n",
              "    </tr>\n",
              "    <tr>\n",
              "      <th>0</th>\n",
              "      <td>Alice</td>\n",
              "      <td>101</td>\n",
              "      <td>HR</td>\n",
              "      <td>60000</td>\n",
              "      <td>6000.0</td>\n",
              "    </tr>\n",
              "  </tbody>\n",
              "</table>\n",
              "</div>\n",
              "    <div class=\"colab-df-buttons\">\n",
              "\n",
              "  <div class=\"colab-df-container\">\n",
              "    <button class=\"colab-df-convert\" onclick=\"convertToInteractive('df-5d34209f-8fce-4d59-a108-954143f58eeb')\"\n",
              "            title=\"Convert this dataframe to an interactive table.\"\n",
              "            style=\"display:none;\">\n",
              "\n",
              "  <svg xmlns=\"http://www.w3.org/2000/svg\" height=\"24px\" viewBox=\"0 -960 960 960\">\n",
              "    <path d=\"M120-120v-720h720v720H120Zm60-500h600v-160H180v160Zm220 220h160v-160H400v160Zm0 220h160v-160H400v160ZM180-400h160v-160H180v160Zm440 0h160v-160H620v160ZM180-180h160v-160H180v160Zm440 0h160v-160H620v160Z\"/>\n",
              "  </svg>\n",
              "    </button>\n",
              "\n",
              "  <style>\n",
              "    .colab-df-container {\n",
              "      display:flex;\n",
              "      gap: 12px;\n",
              "    }\n",
              "\n",
              "    .colab-df-convert {\n",
              "      background-color: #E8F0FE;\n",
              "      border: none;\n",
              "      border-radius: 50%;\n",
              "      cursor: pointer;\n",
              "      display: none;\n",
              "      fill: #1967D2;\n",
              "      height: 32px;\n",
              "      padding: 0 0 0 0;\n",
              "      width: 32px;\n",
              "    }\n",
              "\n",
              "    .colab-df-convert:hover {\n",
              "      background-color: #E2EBFA;\n",
              "      box-shadow: 0px 1px 2px rgba(60, 64, 67, 0.3), 0px 1px 3px 1px rgba(60, 64, 67, 0.15);\n",
              "      fill: #174EA6;\n",
              "    }\n",
              "\n",
              "    .colab-df-buttons div {\n",
              "      margin-bottom: 4px;\n",
              "    }\n",
              "\n",
              "    [theme=dark] .colab-df-convert {\n",
              "      background-color: #3B4455;\n",
              "      fill: #D2E3FC;\n",
              "    }\n",
              "\n",
              "    [theme=dark] .colab-df-convert:hover {\n",
              "      background-color: #434B5C;\n",
              "      box-shadow: 0px 1px 3px 1px rgba(0, 0, 0, 0.15);\n",
              "      filter: drop-shadow(0px 1px 2px rgba(0, 0, 0, 0.3));\n",
              "      fill: #FFFFFF;\n",
              "    }\n",
              "  </style>\n",
              "\n",
              "    <script>\n",
              "      const buttonEl =\n",
              "        document.querySelector('#df-5d34209f-8fce-4d59-a108-954143f58eeb button.colab-df-convert');\n",
              "      buttonEl.style.display =\n",
              "        google.colab.kernel.accessAllowed ? 'block' : 'none';\n",
              "\n",
              "      async function convertToInteractive(key) {\n",
              "        const element = document.querySelector('#df-5d34209f-8fce-4d59-a108-954143f58eeb');\n",
              "        const dataTable =\n",
              "          await google.colab.kernel.invokeFunction('convertToInteractive',\n",
              "                                                    [key], {});\n",
              "        if (!dataTable) return;\n",
              "\n",
              "        const docLinkHtml = 'Like what you see? Visit the ' +\n",
              "          '<a target=\"_blank\" href=https://colab.research.google.com/notebooks/data_table.ipynb>data table notebook</a>'\n",
              "          + ' to learn more about interactive tables.';\n",
              "        element.innerHTML = '';\n",
              "        dataTable['output_type'] = 'display_data';\n",
              "        await google.colab.output.renderOutput(dataTable, element);\n",
              "        const docLink = document.createElement('div');\n",
              "        docLink.innerHTML = docLinkHtml;\n",
              "        element.appendChild(docLink);\n",
              "      }\n",
              "    </script>\n",
              "  </div>\n",
              "\n",
              "\n",
              "    <div id=\"df-91345c97-bd4a-41e8-b30b-275adb48e216\">\n",
              "      <button class=\"colab-df-quickchart\" onclick=\"quickchart('df-91345c97-bd4a-41e8-b30b-275adb48e216')\"\n",
              "                title=\"Suggest charts\"\n",
              "                style=\"display:none;\">\n",
              "\n",
              "<svg xmlns=\"http://www.w3.org/2000/svg\" height=\"24px\"viewBox=\"0 0 24 24\"\n",
              "     width=\"24px\">\n",
              "    <g>\n",
              "        <path d=\"M19 3H5c-1.1 0-2 .9-2 2v14c0 1.1.9 2 2 2h14c1.1 0 2-.9 2-2V5c0-1.1-.9-2-2-2zM9 17H7v-7h2v7zm4 0h-2V7h2v10zm4 0h-2v-4h2v4z\"/>\n",
              "    </g>\n",
              "</svg>\n",
              "      </button>\n",
              "\n",
              "<style>\n",
              "  .colab-df-quickchart {\n",
              "      --bg-color: #E8F0FE;\n",
              "      --fill-color: #1967D2;\n",
              "      --hover-bg-color: #E2EBFA;\n",
              "      --hover-fill-color: #174EA6;\n",
              "      --disabled-fill-color: #AAA;\n",
              "      --disabled-bg-color: #DDD;\n",
              "  }\n",
              "\n",
              "  [theme=dark] .colab-df-quickchart {\n",
              "      --bg-color: #3B4455;\n",
              "      --fill-color: #D2E3FC;\n",
              "      --hover-bg-color: #434B5C;\n",
              "      --hover-fill-color: #FFFFFF;\n",
              "      --disabled-bg-color: #3B4455;\n",
              "      --disabled-fill-color: #666;\n",
              "  }\n",
              "\n",
              "  .colab-df-quickchart {\n",
              "    background-color: var(--bg-color);\n",
              "    border: none;\n",
              "    border-radius: 50%;\n",
              "    cursor: pointer;\n",
              "    display: none;\n",
              "    fill: var(--fill-color);\n",
              "    height: 32px;\n",
              "    padding: 0;\n",
              "    width: 32px;\n",
              "  }\n",
              "\n",
              "  .colab-df-quickchart:hover {\n",
              "    background-color: var(--hover-bg-color);\n",
              "    box-shadow: 0 1px 2px rgba(60, 64, 67, 0.3), 0 1px 3px 1px rgba(60, 64, 67, 0.15);\n",
              "    fill: var(--button-hover-fill-color);\n",
              "  }\n",
              "\n",
              "  .colab-df-quickchart-complete:disabled,\n",
              "  .colab-df-quickchart-complete:disabled:hover {\n",
              "    background-color: var(--disabled-bg-color);\n",
              "    fill: var(--disabled-fill-color);\n",
              "    box-shadow: none;\n",
              "  }\n",
              "\n",
              "  .colab-df-spinner {\n",
              "    border: 2px solid var(--fill-color);\n",
              "    border-color: transparent;\n",
              "    border-bottom-color: var(--fill-color);\n",
              "    animation:\n",
              "      spin 1s steps(1) infinite;\n",
              "  }\n",
              "\n",
              "  @keyframes spin {\n",
              "    0% {\n",
              "      border-color: transparent;\n",
              "      border-bottom-color: var(--fill-color);\n",
              "      border-left-color: var(--fill-color);\n",
              "    }\n",
              "    20% {\n",
              "      border-color: transparent;\n",
              "      border-left-color: var(--fill-color);\n",
              "      border-top-color: var(--fill-color);\n",
              "    }\n",
              "    30% {\n",
              "      border-color: transparent;\n",
              "      border-left-color: var(--fill-color);\n",
              "      border-top-color: var(--fill-color);\n",
              "      border-right-color: var(--fill-color);\n",
              "    }\n",
              "    40% {\n",
              "      border-color: transparent;\n",
              "      border-right-color: var(--fill-color);\n",
              "      border-top-color: var(--fill-color);\n",
              "    }\n",
              "    60% {\n",
              "      border-color: transparent;\n",
              "      border-right-color: var(--fill-color);\n",
              "    }\n",
              "    80% {\n",
              "      border-color: transparent;\n",
              "      border-right-color: var(--fill-color);\n",
              "      border-bottom-color: var(--fill-color);\n",
              "    }\n",
              "    90% {\n",
              "      border-color: transparent;\n",
              "      border-bottom-color: var(--fill-color);\n",
              "    }\n",
              "  }\n",
              "</style>\n",
              "\n",
              "      <script>\n",
              "        async function quickchart(key) {\n",
              "          const quickchartButtonEl =\n",
              "            document.querySelector('#' + key + ' button');\n",
              "          quickchartButtonEl.disabled = true;  // To prevent multiple clicks.\n",
              "          quickchartButtonEl.classList.add('colab-df-spinner');\n",
              "          try {\n",
              "            const charts = await google.colab.kernel.invokeFunction(\n",
              "                'suggestCharts', [key], {});\n",
              "          } catch (error) {\n",
              "            console.error('Error during call to suggestCharts:', error);\n",
              "          }\n",
              "          quickchartButtonEl.classList.remove('colab-df-spinner');\n",
              "          quickchartButtonEl.classList.add('colab-df-quickchart-complete');\n",
              "        }\n",
              "        (() => {\n",
              "          let quickchartButtonEl =\n",
              "            document.querySelector('#df-91345c97-bd4a-41e8-b30b-275adb48e216 button');\n",
              "          quickchartButtonEl.style.display =\n",
              "            google.colab.kernel.accessAllowed ? 'block' : 'none';\n",
              "        })();\n",
              "      </script>\n",
              "    </div>\n",
              "\n",
              "  <div id=\"id_c75a246b-3813-4d0e-b556-75a2f113da6c\">\n",
              "    <style>\n",
              "      .colab-df-generate {\n",
              "        background-color: #E8F0FE;\n",
              "        border: none;\n",
              "        border-radius: 50%;\n",
              "        cursor: pointer;\n",
              "        display: none;\n",
              "        fill: #1967D2;\n",
              "        height: 32px;\n",
              "        padding: 0 0 0 0;\n",
              "        width: 32px;\n",
              "      }\n",
              "\n",
              "      .colab-df-generate:hover {\n",
              "        background-color: #E2EBFA;\n",
              "        box-shadow: 0px 1px 2px rgba(60, 64, 67, 0.3), 0px 1px 3px 1px rgba(60, 64, 67, 0.15);\n",
              "        fill: #174EA6;\n",
              "      }\n",
              "\n",
              "      [theme=dark] .colab-df-generate {\n",
              "        background-color: #3B4455;\n",
              "        fill: #D2E3FC;\n",
              "      }\n",
              "\n",
              "      [theme=dark] .colab-df-generate:hover {\n",
              "        background-color: #434B5C;\n",
              "        box-shadow: 0px 1px 3px 1px rgba(0, 0, 0, 0.15);\n",
              "        filter: drop-shadow(0px 1px 2px rgba(0, 0, 0, 0.3));\n",
              "        fill: #FFFFFF;\n",
              "      }\n",
              "    </style>\n",
              "    <button class=\"colab-df-generate\" onclick=\"generateWithVariable('sorted_employee_df')\"\n",
              "            title=\"Generate code using this dataframe.\"\n",
              "            style=\"display:none;\">\n",
              "\n",
              "  <svg xmlns=\"http://www.w3.org/2000/svg\" height=\"24px\"viewBox=\"0 0 24 24\"\n",
              "       width=\"24px\">\n",
              "    <path d=\"M7,19H8.4L18.45,9,17,7.55,7,17.6ZM5,21V16.75L18.45,3.32a2,2,0,0,1,2.83,0l1.4,1.43a1.91,1.91,0,0,1,.58,1.4,1.91,1.91,0,0,1-.58,1.4L9.25,21ZM18.45,9,17,7.55Zm-12,3A5.31,5.31,0,0,0,4.9,8.1,5.31,5.31,0,0,0,1,6.5,5.31,5.31,0,0,0,4.9,4.9,5.31,5.31,0,0,0,6.5,1,5.31,5.31,0,0,0,8.1,4.9,5.31,5.31,0,0,0,12,6.5,5.46,5.46,0,0,0,6.5,12Z\"/>\n",
              "  </svg>\n",
              "    </button>\n",
              "    <script>\n",
              "      (() => {\n",
              "      const buttonEl =\n",
              "        document.querySelector('#id_c75a246b-3813-4d0e-b556-75a2f113da6c button.colab-df-generate');\n",
              "      buttonEl.style.display =\n",
              "        google.colab.kernel.accessAllowed ? 'block' : 'none';\n",
              "\n",
              "      buttonEl.onclick = () => {\n",
              "        google.colab.notebook.generateWithVariable('sorted_employee_df');\n",
              "      }\n",
              "      })();\n",
              "    </script>\n",
              "  </div>\n",
              "\n",
              "    </div>\n",
              "  </div>\n"
            ],
            "application/vnd.google.colaboratory.intrinsic+json": {
              "type": "dataframe",
              "variable_name": "sorted_employee_df",
              "summary": "{\n  \"name\": \"sorted_employee_df\",\n  \"rows\": 5,\n  \"fields\": [\n    {\n      \"column\": \"Name\",\n      \"properties\": {\n        \"dtype\": \"string\",\n        \"num_unique_values\": 5,\n        \"samples\": [\n          \"Bob\",\n          \"Alice\",\n          \"David\"\n        ],\n        \"semantic_type\": \"\",\n        \"description\": \"\"\n      }\n    },\n    {\n      \"column\": \"ID\",\n      \"properties\": {\n        \"dtype\": \"number\",\n        \"std\": 1,\n        \"min\": 101,\n        \"max\": 105,\n        \"num_unique_values\": 5,\n        \"samples\": [\n          102,\n          101,\n          104\n        ],\n        \"semantic_type\": \"\",\n        \"description\": \"\"\n      }\n    },\n    {\n      \"column\": \"Department\",\n      \"properties\": {\n        \"dtype\": \"string\",\n        \"num_unique_values\": 4,\n        \"samples\": [\n          \"Marketing\",\n          \"HR\",\n          \"IT\"\n        ],\n        \"semantic_type\": \"\",\n        \"description\": \"\"\n      }\n    },\n    {\n      \"column\": \"Salary\",\n      \"properties\": {\n        \"dtype\": \"number\",\n        \"std\": 7905,\n        \"min\": 60000,\n        \"max\": 80000,\n        \"num_unique_values\": 5,\n        \"samples\": [\n          75000,\n          60000,\n          70000\n        ],\n        \"semantic_type\": \"\",\n        \"description\": \"\"\n      }\n    },\n    {\n      \"column\": \"Bonus\",\n      \"properties\": {\n        \"dtype\": \"number\",\n        \"std\": 790.5694150420949,\n        \"min\": 6000.0,\n        \"max\": 8000.0,\n        \"num_unique_values\": 5,\n        \"samples\": [\n          7500.0,\n          6000.0,\n          7000.0\n        ],\n        \"semantic_type\": \"\",\n        \"description\": \"\"\n      }\n    }\n  ]\n}"
            }
          },
          "metadata": {}
        }
      ]
    },
    {
      "cell_type": "markdown",
      "metadata": {
        "id": "d0790b2e"
      },
      "source": [
        "## Calculate total salary expense\n",
        "\n",
        "### Subtask:\n",
        "Calculate the total salary expense, including the bonuses.\n"
      ]
    },
    {
      "cell_type": "markdown",
      "metadata": {
        "id": "40e553b8"
      },
      "source": [
        "**Reasoning**:\n",
        "Calculate the total salary and bonus from the DataFrame and print the sum.\n",
        "\n"
      ]
    },
    {
      "cell_type": "code",
      "metadata": {
        "colab": {
          "base_uri": "https://localhost:8080/"
        },
        "id": "266ad741",
        "outputId": "5fb11480-dc02-4786-8248-652c80e9c533"
      },
      "source": [
        "# Sum the 'Salary' column to get the total salary.\n",
        "total_salary = sorted_employee_df['Salary'].sum()\n",
        "\n",
        "# Sum the 'Bonus' column to get the total bonus amount.\n",
        "total_bonus = sorted_employee_df['Bonus'].sum()\n",
        "\n",
        "# Add the total salary and total bonus to get the total salary expense.\n",
        "total_salary_expense = total_salary + total_bonus\n",
        "\n",
        "# Print the total salary expense.\n",
        "print(f\"Total salary expense (including bonuses): ${total_salary_expense:.2f}\")"
      ],
      "execution_count": 4,
      "outputs": [
        {
          "output_type": "stream",
          "name": "stdout",
          "text": [
            "Total salary expense (including bonuses): $385000.00\n"
          ]
        }
      ]
    },
    {
      "cell_type": "markdown",
      "metadata": {
        "id": "c0f920c0"
      },
      "source": [
        "## Save to csv\n",
        "\n",
        "### Subtask:\n",
        "Save the final DataFrame with the new bonus column to a CSV file.\n"
      ]
    },
    {
      "cell_type": "markdown",
      "metadata": {
        "id": "20c2c1dd"
      },
      "source": [
        "**Reasoning**:\n",
        "Save the DataFrame to a CSV file, excluding the index.\n",
        "\n"
      ]
    },
    {
      "cell_type": "code",
      "metadata": {
        "colab": {
          "base_uri": "https://localhost:8080/"
        },
        "id": "6ba49ff9",
        "outputId": "93f372e6-a30c-45aa-f526-9f952c195956"
      },
      "source": [
        "# Save the sorted_employee_df DataFrame to a CSV file named 'employee_salary_with_bonus.csv'.\n",
        "# Set index=False to exclude the DataFrame index from the saved CSV file.\n",
        "sorted_employee_df.to_csv('employee_salary_with_bonus.csv', index=False)\n",
        "\n",
        "print(\"DataFrame saved to 'employee_salary_with_bonus.csv'\")"
      ],
      "execution_count": 5,
      "outputs": [
        {
          "output_type": "stream",
          "name": "stdout",
          "text": [
            "DataFrame saved to 'employee_salary_with_bonus.csv'\n"
          ]
        }
      ]
    },
    {
      "cell_type": "markdown",
      "metadata": {
        "id": "821ff095"
      },
      "source": [
        "## Summary:\n",
        "\n",
        "### Data Analysis Key Findings\n",
        "\n",
        "*   The initial DataFrame contained data for 5 employees, including their Name, ID, Department, and Salary.\n",
        "*   Filtering the DataFrame for salaries greater than \\\\$50,000 kept all 5 employees in the dataset.\n",
        "*   The DataFrame was successfully sorted by Salary in descending order, placing the highest earners first.\n",
        "*   A new column 'Bonus' was added, calculated as 10% of the 'Salary'.\n",
        "*   The total salary expense, including the calculated bonuses, is \\\\$385,000.00.\n",
        "*   The final DataFrame, including the bonus column and sorted by salary, was saved to a CSV file named 'employee\\_salary\\_with\\_bonus.csv' without the DataFrame index.\n",
        "\n",
        "### Insights or Next Steps\n",
        "\n",
        "*   The analysis provides a clear overview of employee salaries and the impact of a 10% bonus on total expenses.\n",
        "*   Further analysis could involve calculating department-specific salary expenses or exploring other bonus calculation methods.\n"
      ]
    }
  ]
}